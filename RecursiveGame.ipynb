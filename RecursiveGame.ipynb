{
 "cells": [
  {
   "cell_type": "code",
   "execution_count": 1,
   "id": "298a3b08-a2bd-449a-9a0a-e2f03836f002",
   "metadata": {
    "tags": []
   },
   "outputs": [
    {
     "name": "stdout",
     "output_type": "stream",
     "text": [
      "0.666666686534882\n",
      "0.333333333333333*(-1/2)**(k - 1) + 0.666666666666667\n"
     ]
    }
   ],
   "source": [
    "import sympy as sp\n",
    "from sympy.abc import m, x, y, k\n",
    "\n",
    "\n",
    "#symbolic solver characterist eq.\n",
    "M = sp.solve(2*(m**2)-m-1,m)\n",
    "\n",
    "\n",
    "#symbolic solve linear system\n",
    "A = sp.Matrix([[1, 1], [M[0], M[1]]]) \n",
    "b = sp.Matrix([1,0.5])\n",
    "C,= sp.linsolve((A,b), x, y)\n",
    "\n",
    "def an(n):\n",
    "    return sum(C[i]*M[i]**(n-1) for i in range(2))\n",
    "\n",
    "print(an(25))\n",
    "print(an(k))"
   ]
  },
  {
   "cell_type": "code",
   "execution_count": null,
   "id": "3e4412b7-9d81-421f-8d13-3e8274977ad6",
   "metadata": {},
   "outputs": [],
   "source": []
  }
 ],
 "metadata": {
  "kernelspec": {
   "display_name": "Python 3 (ipykernel)",
   "language": "python",
   "name": "python3"
  },
  "language_info": {
   "codemirror_mode": {
    "name": "ipython",
    "version": 3
   },
   "file_extension": ".py",
   "mimetype": "text/x-python",
   "name": "python",
   "nbconvert_exporter": "python",
   "pygments_lexer": "ipython3",
   "version": "3.11.5"
  }
 },
 "nbformat": 4,
 "nbformat_minor": 5
}
